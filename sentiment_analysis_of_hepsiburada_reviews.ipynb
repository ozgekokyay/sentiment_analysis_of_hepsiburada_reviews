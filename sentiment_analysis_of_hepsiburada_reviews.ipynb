{
  "nbformat": 4,
  "nbformat_minor": 0,
  "metadata": {
    "colab": {
      "name": "sentiment_analysis_of_hepsiburada_reviews.ipynb ",
      "private_outputs": true,
      "provenance": [],
      "machine_shape": "hm",
      "include_colab_link": true
    },
    "kernelspec": {
      "name": "python3",
      "display_name": "Python 3"
    },
    "accelerator": "GPU"
  },
  "cells": [
    {
      "cell_type": "markdown",
      "metadata": {
        "id": "view-in-github",
        "colab_type": "text"
      },
      "source": [
        "<a href=\"https://colab.research.google.com/github/ozgekokyay/sentiment_analysis_of_hepsiburada_reviews/blob/main/sentiment_analysis_of_hepsiburada_reviews.ipynb\" target=\"_parent\"><img src=\"https://colab.research.google.com/assets/colab-badge.svg\" alt=\"Open In Colab\"/></a>"
      ]
    },
    {
      "cell_type": "code",
      "metadata": {
        "id": "9_QXwTfR6S7m"
      },
      "source": [
        "import numpy as np\n",
        "import pandas as pd\n",
        "\n",
        "from tensorflow.keras.models import Sequential, load_model\n",
        "from tensorflow.keras.layers import Dense, GRU, Embedding, Bidirectional\n",
        "from tensorflow.keras.optimizers import Adam\n",
        "from tensorflow.keras.preprocessing.text import Tokenizer\n",
        "from tensorflow.keras.preprocessing.sequence import pad_sequences\n",
        "import tensorflow as tf"
      ],
      "execution_count": null,
      "outputs": []
    },
    {
      "cell_type": "code",
      "metadata": {
        "id": "iSZeDeee7HAY"
      },
      "source": [
        "!wget https://www.dropbox.com/s/a7z7suwt85llb9a/hepsiburada.csv?dl=1 -O hepsiburada.csv"
      ],
      "execution_count": null,
      "outputs": []
    },
    {
      "cell_type": "code",
      "metadata": {
        "id": "8gc1uPlX7WzT"
      },
      "source": [
        "dataset = pd.read_csv('hepsiburada.csv')\n",
        "dataset.head()"
      ],
      "execution_count": null,
      "outputs": []
    },
    {
      "cell_type": "code",
      "metadata": {
        "id": "QT_Qdo4B7uul"
      },
      "source": [
        "target = dataset['Rating'].values.tolist()\n",
        "data = dataset['Review'].values.tolist()\n"
      ],
      "execution_count": null,
      "outputs": []
    },
    {
      "cell_type": "code",
      "metadata": {
        "id": "AWz-wXyM73aA"
      },
      "source": [
        "cutoff = int(len(data) * 0.9)\n",
        "x_train, x_test = data[:cutoff], data[cutoff:]\n",
        "y_train, y_test = target[:cutoff], target[cutoff:]"
      ],
      "execution_count": null,
      "outputs": []
    },
    {
      "cell_type": "code",
      "metadata": {
        "id": "zzbmK4Mj8FgX"
      },
      "source": [
        "num_words = 7000\n",
        "tokenizer = Tokenizer(num_words=num_words)\n",
        "tokenizer.fit_on_texts(data)"
      ],
      "execution_count": null,
      "outputs": []
    },
    {
      "cell_type": "code",
      "metadata": {
        "id": "Q6kAA12e9KGZ"
      },
      "source": [
        "tokenizer.word_index['iyi']"
      ],
      "execution_count": null,
      "outputs": []
    },
    {
      "cell_type": "code",
      "metadata": {
        "id": "Btei1oGH9RdD"
      },
      "source": [
        "x_train_tokens = tokenizer.texts_to_sequences(x_train)\n",
        "x_train[1000], x_train_tokens[1000]"
      ],
      "execution_count": null,
      "outputs": []
    },
    {
      "cell_type": "code",
      "metadata": {
        "id": "Yk8cLawc9gU_"
      },
      "source": [
        "x_test_tokens = tokenizer.texts_to_sequences(x_test)\n",
        "x_test[1000], x_test_tokens[100]"
      ],
      "execution_count": null,
      "outputs": []
    },
    {
      "cell_type": "code",
      "metadata": {
        "id": "d3vp8yYJ9zak"
      },
      "source": [
        "num_tokens = [len(tokens) for tokens in x_train_tokens + x_test_tokens]\n",
        "num_tokens = np.array(num_tokens)\n",
        "np.mean(num_tokens), np.max(num_tokens), np.argmax(num_tokens)\n",
        "\n"
      ],
      "execution_count": null,
      "outputs": []
    },
    {
      "cell_type": "code",
      "metadata": {
        "id": "O-wbe1UK-xQo"
      },
      "source": [
        "x_train[21941]"
      ],
      "execution_count": null,
      "outputs": []
    },
    {
      "cell_type": "code",
      "metadata": {
        "id": "ipmITM15-68p"
      },
      "source": [
        "max_tokens = np.mean(num_tokens) + 2 * np.std(num_tokens)\n",
        "max_tokens = int(max_tokens)\n",
        "max_tokens"
      ],
      "execution_count": null,
      "outputs": []
    },
    {
      "cell_type": "code",
      "metadata": {
        "id": "_h-ED8li_Ixp"
      },
      "source": [
        "np.sum(num_tokens < max_tokens) / len(num_tokens)"
      ],
      "execution_count": null,
      "outputs": []
    },
    {
      "cell_type": "code",
      "metadata": {
        "id": "5-ju6RKV_iJe"
      },
      "source": [
        "x_train_pad = pad_sequences(x_train_tokens, maxlen=max_tokens)\n",
        "x_test_pad = pad_sequences(x_test_tokens, maxlen=max_tokens)\n",
        "x_train_pad.shape, x_test_pad.shape"
      ],
      "execution_count": null,
      "outputs": []
    },
    {
      "cell_type": "code",
      "metadata": {
        "id": "jt08pJNz_2hj"
      },
      "source": [
        "idx = tokenizer.word_index\n",
        "\n",
        "inverse_map = dict(zip(idx.values(), idx.keys()))\n"
      ],
      "execution_count": null,
      "outputs": []
    },
    {
      "cell_type": "code",
      "metadata": {
        "id": "Q9kahSByAU-9"
      },
      "source": [
        "def tokens_to_string(tokens):\n",
        "    words = [inverse_map[token] for token in tokens if token!=0]\n",
        "    text = ' '.join(words)\n",
        "    return text"
      ],
      "execution_count": null,
      "outputs": []
    },
    {
      "cell_type": "code",
      "metadata": {
        "id": "Edh9tifuAc_6"
      },
      "source": [
        "x_train_tokens[100], tokens_to_string(x_train_tokens[100])"
      ],
      "execution_count": null,
      "outputs": []
    },
    {
      "cell_type": "code",
      "metadata": {
        "id": "3kAM6SVzArw5"
      },
      "source": [
        "embedding_size = 42\n",
        "from tensorflow.keras.layers import Dropout, GlobalAveragePooling1D\n",
        "model = Sequential()\n",
        "\n",
        "model.add(Embedding(input_dim=num_words,\n",
        "                    output_dim=embedding_size,\n",
        "                    input_length=max_tokens,\n",
        "                    name='embedding_layer'))\n",
        "model.add(GRU(units=16, return_sequences=True))\n",
        "model.add(GRU(units=8, return_sequences=True))\n",
        "model.add(GRU(units=4))\n",
        "# model.add(Bidirectional(tf.keras.layers.LSTM(64, return_sequences=True)))\n",
        "# model.add(Bidirectional(tf.keras.layers.LSTM(32)))\n",
        "model.add(Dense(64, activation='relu'))\n",
        "model.add(Dropout(0.5))\n",
        "model.add(Dense(1))\n",
        "model.summary()"
      ],
      "execution_count": null,
      "outputs": []
    },
    {
      "cell_type": "code",
      "metadata": {
        "id": "jaS7RN66BR7_"
      },
      "source": [
        "\n",
        "optimizer = Adam(lr=1e-3)\n",
        "model.compile(loss=tf.keras.losses.BinaryCrossentropy(from_logits=True),\n",
        "              optimizer=optimizer,\n",
        "              metrics=['accuracy'])\n"
      ],
      "execution_count": null,
      "outputs": []
    },
    {
      "cell_type": "code",
      "metadata": {
        "id": "SLM6kv4tBqkM"
      },
      "source": [
        "from tensorflow.data import Dataset\n",
        "train_ds = Dataset.zip((Dataset.from_tensor_slices(x_train_pad), Dataset.from_tensor_slices(y_train)))\n",
        "train_ds = train_ds.shuffle(1024).batch(256)\n",
        "val_ds = Dataset.zip((Dataset.from_tensor_slices(x_test_pad), Dataset.from_tensor_slices(y_test)))\n",
        "val_ds = val_ds.batch(256)\n",
        "steps_per_epoch = len(x_train_pad) // 256\n",
        "validation_steps = len(x_test_pad) // 256"
      ],
      "execution_count": null,
      "outputs": []
    },
    {
      "cell_type": "code",
      "metadata": {
        "id": "JQGPyCALD7Pb"
      },
      "source": [
        "model.fit(train_ds.repeat(), epochs=5, steps_per_epoch=steps_per_epoch, validation_data=val_ds.repeat(), validation_steps=validation_steps)"
      ],
      "execution_count": null,
      "outputs": []
    },
    {
      "cell_type": "code",
      "metadata": {
        "id": "Sx0Ebt8TEYBG"
      },
      "source": [
        "model.save('model.h5')\n",
        "!ls"
      ],
      "execution_count": null,
      "outputs": []
    },
    {
      "cell_type": "code",
      "metadata": {
        "id": "uhNKO6gTEy9X"
      },
      "source": [
        "from google.colab import files\n",
        "files.download('model.h5')"
      ],
      "execution_count": null,
      "outputs": []
    },
    {
      "cell_type": "code",
      "metadata": {
        "id": "gOFuxSF-ZPRv"
      },
      "source": [
        "model2 = load_model('model.h5')\n",
        "model2.summary()"
      ],
      "execution_count": null,
      "outputs": []
    },
    {
      "cell_type": "code",
      "metadata": {
        "id": "QP56OBK_Zu9f"
      },
      "source": [
        "tests = [\"Henüz fazla test edemedim ama ürün iyi görünüyor\", \"Oldukça kullanışlı, uzun süre kullanacağımı düşünüyorum\", \"Ben hiç beğenmedim, kesinlikle tavsiye etmem\", \"Bu ürünü uzun süre kullanmak imkansız\"]\n",
        "test_tokens = tokenizer.texts_to_sequences(tests)\n",
        "test_pad = pad_sequences(test_tokens, maxlen=max_tokens)\n",
        "test_pad.shape"
      ],
      "execution_count": null,
      "outputs": []
    },
    {
      "cell_type": "code",
      "metadata": {
        "id": "8jMJGppzapdH"
      },
      "source": [
        "preds = model2.predict(test_pad)\n",
        "preds = tf.nn.sigmoid(preds)\n",
        "preds"
      ],
      "execution_count": null,
      "outputs": []
    },
    {
      "cell_type": "code",
      "metadata": {
        "id": "MOcjIeUQbDXZ"
      },
      "source": [
        ""
      ],
      "execution_count": null,
      "outputs": []
    }
  ]
}